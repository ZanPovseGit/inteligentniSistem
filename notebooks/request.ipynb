{
 "cells": [
  {
   "cell_type": "code",
   "execution_count": 3,
   "id": "fe65ff61-7870-41cb-94cc-0cefc69588ab",
   "metadata": {},
   "outputs": [
    {
     "name": "stdout",
     "output_type": "stream",
     "text": [
      "JSON file saved successfully at C:\\Users\\Uporabnik\\Desktop\\notebooks\\inteligVaje\\data\\raw\\data.json\n"
     ]
    }
   ],
   "source": [
    "import requests\n",
    "import pandas as pd\n",
    "import json\n",
    "\n",
    "def fetch_json_from_api(api_url):\n",
    "    try:\n",
    "        response = requests.get(api_url)\n",
    "        response.raise_for_status()  # Check for errors in the HTTP response\n",
    "        json_data = response.json()\n",
    "        return json_data\n",
    "    except requests.exceptions.RequestException as e:\n",
    "        print(f\"Error fetching data from API: {e}\")\n",
    "        return None\n",
    "\n",
    "def save_json_to_dataframe(json_data):\n",
    "    if json_data:\n",
    "        df = pd.DataFrame(json_data)\n",
    "        return df\n",
    "    else:\n",
    "        return None\n",
    "\n",
    "def save_json_to_file(df, file_path):\n",
    "    # Exclude 'number' and 'contract_name' columns\n",
    "    df_filtered = df.drop(['number', 'contract_name'], axis=1)\n",
    "    \n",
    "    # Convert DataFrame to dictionary\n",
    "    data_to_save = df_filtered.to_dict(orient='records')\n",
    "    \n",
    "    # Save the dictionary as a JSON file\n",
    "    with open(file_path, 'w') as json_file:\n",
    "        json.dump(data_to_save, json_file, indent=2)\n",
    "    print(f\"JSON file saved successfully at {file_path}\")\n",
    "\n",
    "def main():\n",
    "    api_url = 'https://api.jcdecaux.com/vls/v1/stations?contract=maribor&apiKey=5e150537116dbc1786ce5bec6975a8603286526b'\n",
    "    file_path = r'C:\\Users\\Uporabnik\\Desktop\\notebooks\\inteligVaje\\data\\raw\\data.json'\n",
    "    json_data = fetch_json_from_api(api_url)\n",
    "    if json_data:\n",
    "        df = save_json_to_dataframe(json_data)\n",
    "        save_json_to_file(df, file_path)\n",
    "\n",
    "if __name__ == \"__main__\":\n",
    "    main()"
   ]
  },
  {
   "cell_type": "code",
   "execution_count": null,
   "id": "d9df2e4b-a831-45b3-b0cb-f226ea4a9def",
   "metadata": {},
   "outputs": [],
   "source": []
  }
 ],
 "metadata": {
  "kernelspec": {
   "display_name": "Python 3 (ipykernel)",
   "language": "python",
   "name": "python3"
  },
  "language_info": {
   "codemirror_mode": {
    "name": "ipython",
    "version": 3
   },
   "file_extension": ".py",
   "mimetype": "text/x-python",
   "name": "python",
   "nbconvert_exporter": "python",
   "pygments_lexer": "ipython3",
   "version": "3.10.13"
  }
 },
 "nbformat": 4,
 "nbformat_minor": 5
}
